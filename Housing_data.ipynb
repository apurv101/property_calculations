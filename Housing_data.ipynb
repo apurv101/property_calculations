{
 "cells": [
  {
   "cell_type": "code",
   "execution_count": 1,
   "metadata": {
    "collapsed": true
   },
   "outputs": [],
   "source": [
    "import certifi\n",
    "import urllib3\n",
    "from bs4 import BeautifulSoup\n",
    "import re\n",
    "\n",
    "\n",
    "# 1.0 Resources\n",
    "\n",
    "# 1.1 Call Zillow API, Get Property XML to Extract Property Specific Data\n",
    "apiKey = 'X1-ZWz1g09lesyy2z_44w9p'\n",
    "address = '1741+Celeste+Dr&citystatezip=San+Mateo,+CA'\n",
    "http = urllib3.PoolManager()\n",
    "urlZ = http.request('GET', 'http://www.zillow.com/webservice/GetDeepSearchResults.htm?zws-id='+apiKey+'&zp&address='+address)\n",
    "xml = BeautifulSoup(urlZ.data, 'xml')"
   ]
  },
  {
   "cell_type": "code",
   "execution_count": 4,
   "metadata": {},
   "outputs": [
    {
     "name": "stdout",
     "output_type": "stream",
     "text": [
      "http://www.zillow.com/webservice/GetDeepSearchResults.htm?zws-id=X1-ZWz1g09lesyy2z_44w9p&zp&address=1741+Celeste+Dr&citystatezip=San+Mateo,+CA\n"
     ]
    }
   ],
   "source": [
    "print('http://www.zillow.com/webservice/GetDeepSearchResults.htm?zws-id='+apiKey+'&zp&address='+address)"
   ]
  },
  {
   "cell_type": "code",
   "execution_count": 5,
   "metadata": {
    "collapsed": true
   },
   "outputs": [],
   "source": [
    "# 1.2 Call Hausable Zoning/Market Data, Get HTML Data\n",
    "https = urllib3.PoolManager(cert_reqs='CERT_REQUIRED', ca_certs=certifi.where())        \n",
    "urlH = https.request('GET', 'https://www.hausable.com/city/fremont-ca/')\n",
    "content = BeautifulSoup(urlH.data, 'html.parser')"
   ]
  },
  {
   "cell_type": "code",
   "execution_count": 35,
   "metadata": {},
   "outputs": [],
   "source": [
    "#Calculating Far...Check this Patrick!!!\n",
    "def find_far():\n",
    "    lotsizesqlot = int(xml.find('lotSizeSqFt').get_text())\n",
    "    finishedSqFt = int(xml.find('finishedSqFt').get_text())\n",
    "    return lotsizesqlot/finishedSqFt\n",
    "    \n",
    "    "
   ]
  },
  {
   "cell_type": "code",
   "execution_count": 36,
   "metadata": {},
   "outputs": [
    {
     "data": {
      "text/plain": [
       "3.577857142857143"
      ]
     },
     "execution_count": 36,
     "metadata": {},
     "output_type": "execute_result"
    }
   ],
   "source": [
    "find_far()"
   ]
  },
  {
   "cell_type": "code",
   "execution_count": 7,
   "metadata": {
    "collapsed": true
   },
   "outputs": [],
   "source": [
    "def listPropertyAddress():\n",
    "    for items in xml.find_all(('street','zipcode','city','useCode')):\n",
    "        propertyAddress = (re.split(r'\\<>', (items.string)))\n",
    "        print(propertyAddress)"
   ]
  },
  {
   "cell_type": "code",
   "execution_count": 8,
   "metadata": {},
   "outputs": [
    {
     "name": "stdout",
     "output_type": "stream",
     "text": [
      "['1741 Celeste Dr']\n",
      "['94402']\n",
      "['San Mateo']\n",
      "['SingleFamily']\n"
     ]
    }
   ],
   "source": [
    "listPropertyAddress()"
   ]
  },
  {
   "cell_type": "code",
   "execution_count": 9,
   "metadata": {
    "collapsed": true
   },
   "outputs": [],
   "source": [
    "\n",
    "def listPropertyMarket():       \n",
    "    for items in xml.find_all(('city','state','FIPScounty')):\n",
    "        propertyMarket = (re.split(r'\\<>', (items.string)))\n",
    "        print(propertyMarket)\n"
   ]
  },
  {
   "cell_type": "code",
   "execution_count": 10,
   "metadata": {},
   "outputs": [
    {
     "name": "stdout",
     "output_type": "stream",
     "text": [
      "['San Mateo']\n",
      "['CA']\n",
      "['6081']\n"
     ]
    }
   ],
   "source": [
    "listPropertyMarket()"
   ]
  },
  {
   "cell_type": "code",
   "execution_count": 11,
   "metadata": {
    "collapsed": true
   },
   "outputs": [],
   "source": [
    "\n",
    "def listPropertyFloats():       \n",
    "    for items in xml.find_all(('lotSizeSqFt','finishedSqFt','bedrooms','bathrooms','totalRooms')):\n",
    "        propertyString = (re.split(r'\\<>', (items.string)))\n",
    "        propertyFloats = list(map(float, propertyString)) #string to float conversion\n",
    "        print(propertyFloats[0:4])\n"
   ]
  },
  {
   "cell_type": "code",
   "execution_count": 12,
   "metadata": {},
   "outputs": [
    {
     "name": "stdout",
     "output_type": "stream",
     "text": [
      "[5009.0]\n",
      "[1400.0]\n",
      "[2.0]\n",
      "[3.0]\n",
      "[6.0]\n"
     ]
    }
   ],
   "source": [
    "listPropertyFloats()"
   ]
  },
  {
   "cell_type": "code",
   "execution_count": 13,
   "metadata": {
    "collapsed": true
   },
   "outputs": [],
   "source": [
    "\n",
    "def listPropertyValues():\n",
    "    for items in xml.find_all(('taxAssessment','zindexValue')):\n",
    "        valueString = (re.split(r'\\<>', (items.string)))\n",
    "        valueFloats = list(map(float, valueString)) #string to float conversion\n",
    "        print(valueFloats[0:4])"
   ]
  },
  {
   "cell_type": "code",
   "execution_count": 14,
   "metadata": {},
   "outputs": [
    {
     "name": "stdout",
     "output_type": "stream",
     "text": [
      "[988952.0]\n"
     ]
    }
   ],
   "source": [
    "listPropertyValues()"
   ]
  },
  {
   "cell_type": "code",
   "execution_count": 15,
   "metadata": {
    "collapsed": true
   },
   "outputs": [],
   "source": [
    "def listPropertyDates():\n",
    "    for items in xml.find_all(('taxAssessmentYear','yearBuilt')): # need to add 'lastSoldDate' as string\n",
    "        datesString = (re.split(r'\\<>', (items.string)))\n",
    "        datesFloats = list(map(float, datesString)) #string to int conversion\n",
    "        print(datesFloats[0:4])"
   ]
  },
  {
   "cell_type": "code",
   "execution_count": 16,
   "metadata": {},
   "outputs": [
    {
     "name": "stdout",
     "output_type": "stream",
     "text": [
      "[2017.0]\n",
      "[1956.0]\n"
     ]
    }
   ],
   "source": [
    "listPropertyDates()"
   ]
  },
  {
   "cell_type": "code",
   "execution_count": 17,
   "metadata": {
    "collapsed": true
   },
   "outputs": [],
   "source": [
    "  # Market & Zoning List Functions\n",
    "    \n",
    "def listMarketTerms():\n",
    "    for terms in content.find_all('div', class_=\"cc-item\"):\n",
    "        marketTerms = (re.split(r'\\<>', (terms.text)))\n",
    "        print(marketTerms)"
   ]
  },
  {
   "cell_type": "code",
   "execution_count": 18,
   "metadata": {},
   "outputs": [
    {
     "data": {
      "text/plain": [
       "<function __main__.listMarketTerms>"
      ]
     },
     "execution_count": 18,
     "metadata": {},
     "output_type": "execute_result"
    }
   ],
   "source": [
    "listMarketTerms"
   ]
  },
  {
   "cell_type": "code",
   "execution_count": 21,
   "metadata": {},
   "outputs": [],
   "source": [
    "\n",
    "def listMarketDefinitions():\n",
    "    for zoning in content.find_all('div', class_=\"cc-description\"):\n",
    "        marketDefinitions = (re.split(r'\\<>', (zoning.text)))\n",
    "        print(marketDefinitions)\n"
   ]
  },
  {
   "cell_type": "code",
   "execution_count": 22,
   "metadata": {},
   "outputs": [
    {
     "data": {
      "text/plain": [
       "<function __main__.listMarketDefinitions>"
      ]
     },
     "execution_count": 22,
     "metadata": {},
     "output_type": "execute_result"
    }
   ],
   "source": [
    "listMarketDefinitions"
   ]
  },
  {
   "cell_type": "code",
   "execution_count": null,
   "metadata": {
    "collapsed": true
   },
   "outputs": [],
   "source": []
  }
 ],
 "metadata": {
  "kernelspec": {
   "display_name": "Python 3",
   "language": "python",
   "name": "python3"
  },
  "language_info": {
   "codemirror_mode": {
    "name": "ipython",
    "version": 3
   },
   "file_extension": ".py",
   "mimetype": "text/x-python",
   "name": "python",
   "nbconvert_exporter": "python",
   "pygments_lexer": "ipython3",
   "version": "3.6.3"
  }
 },
 "nbformat": 4,
 "nbformat_minor": 2
}
